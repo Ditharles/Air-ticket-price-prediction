{
 "cells": [
  {
   "cell_type": "markdown",
   "metadata": {},
   "source": [
    "## Start "
   ]
  },
  {
   "cell_type": "code",
   "execution_count": 30,
   "metadata": {},
   "outputs": [
    {
     "name": "stderr",
     "output_type": "stream",
     "text": [
      "                                                                                \r"
     ]
    }
   ],
   "source": [
    "from pyspark.sql import SparkSession\n",
    "\n",
    "#Initialize the session \n",
    "spark=SparkSession.builder.appName(\"Preparation\").getOrCreate()\n",
    "\n",
    "#Read the data\n",
    "data=\"./data/Data.csv\" #Chemin vers le fichier\n",
    "df=spark.read.csv(data,header=True,inferSchema=True)\n",
    "\n",
    "\n",
    "\n"
   ]
  },
  {
   "cell_type": "code",
   "execution_count": 31,
   "metadata": {},
   "outputs": [
    {
     "name": "stdout",
     "output_type": "stream",
     "text": [
      "+-----------------+---------------+--------+-----------+--------------------+-------------------+------------+--------+-----------+--------------------+-----+\n",
      "|          Airline|Date_of_Journey|  Source|Destination|               Route|           Dep_Time|Arrival_Time|Duration|Total_Stops|     Additional_Info|Price|\n",
      "+-----------------+---------------+--------+-----------+--------------------+-------------------+------------+--------+-----------+--------------------+-----+\n",
      "|           IndiGo|     24/03/2019|Banglore|  New Delhi|           BLR → DEL|2024-11-15 22:20:00|01:10 22 Mar|  2h 50m|   non-stop|             No info| 3897|\n",
      "|        Air India|      1/05/2019| Kolkata|   Banglore|CCU → IXR → BBI →...|2024-11-15 05:50:00|       13:15|  7h 25m|    2 stops|             No info| 7662|\n",
      "|      Jet Airways|      9/06/2019|   Delhi|     Cochin|DEL → LKO → BOM →...|2024-11-15 09:25:00|04:25 10 Jun|     19h|    2 stops|             No info|13882|\n",
      "|           IndiGo|     12/05/2019| Kolkata|   Banglore|     CCU → NAG → BLR|2024-11-15 18:05:00|       23:30|  5h 25m|     1 stop|             No info| 6218|\n",
      "|           IndiGo|     01/03/2019|Banglore|  New Delhi|     BLR → NAG → DEL|2024-11-15 16:50:00|       21:35|  4h 45m|     1 stop|             No info|13302|\n",
      "|         SpiceJet|     24/06/2019| Kolkata|   Banglore|           CCU → BLR|2024-11-15 09:00:00|       11:25|  2h 25m|   non-stop|             No info| 3873|\n",
      "|      Jet Airways|     12/03/2019|Banglore|  New Delhi|     BLR → BOM → DEL|2024-11-15 18:55:00|10:25 13 Mar| 15h 30m|     1 stop|In-flight meal no...|11087|\n",
      "|      Jet Airways|     01/03/2019|Banglore|  New Delhi|     BLR → BOM → DEL|2024-11-15 08:00:00|05:05 02 Mar|  21h 5m|     1 stop|             No info|22270|\n",
      "|      Jet Airways|     12/03/2019|Banglore|  New Delhi|     BLR → BOM → DEL|2024-11-15 08:55:00|10:25 13 Mar| 25h 30m|     1 stop|In-flight meal no...|11087|\n",
      "|Multiple carriers|     27/05/2019|   Delhi|     Cochin|     DEL → BOM → COK|2024-11-15 11:25:00|       19:15|  7h 50m|     1 stop|             No info| 8625|\n",
      "|        Air India|      1/06/2019|   Delhi|     Cochin|     DEL → BLR → COK|2024-11-15 09:45:00|       23:00| 13h 15m|     1 stop|             No info| 8907|\n",
      "|           IndiGo|     18/04/2019| Kolkata|   Banglore|           CCU → BLR|2024-11-15 20:20:00|       22:55|  2h 35m|   non-stop|             No info| 4174|\n",
      "|        Air India|     24/06/2019| Chennai|    Kolkata|           MAA → CCU|2024-11-15 11:40:00|       13:55|  2h 15m|   non-stop|             No info| 4667|\n",
      "|      Jet Airways|      9/05/2019| Kolkata|   Banglore|     CCU → BOM → BLR|2024-11-15 21:10:00|09:20 10 May| 12h 10m|     1 stop|In-flight meal no...| 9663|\n",
      "|           IndiGo|     24/04/2019| Kolkata|   Banglore|           CCU → BLR|2024-11-15 17:15:00|       19:50|  2h 35m|   non-stop|             No info| 4804|\n",
      "|        Air India|      3/03/2019|   Delhi|     Cochin|DEL → AMD → BOM →...|2024-11-15 16:40:00|19:15 04 Mar| 26h 35m|    2 stops|             No info|14011|\n",
      "|         SpiceJet|     15/04/2019|   Delhi|     Cochin|     DEL → PNQ → COK|2024-11-15 08:45:00|       13:15|  4h 30m|     1 stop|             No info| 5830|\n",
      "|      Jet Airways|     12/06/2019|   Delhi|     Cochin|     DEL → BOM → COK|2024-11-15 14:00:00|12:35 13 Jun| 22h 35m|     1 stop|In-flight meal no...|10262|\n",
      "|        Air India|     12/06/2019|   Delhi|     Cochin|DEL → CCU → BOM →...|2024-11-15 20:15:00|19:15 13 Jun|     23h|    2 stops|             No info|13381|\n",
      "|      Jet Airways|     27/05/2019|   Delhi|     Cochin|     DEL → BOM → COK|2024-11-15 16:00:00|12:35 28 May| 20h 35m|     1 stop|In-flight meal no...|12898|\n",
      "+-----------------+---------------+--------+-----------+--------------------+-------------------+------------+--------+-----------+--------------------+-----+\n",
      "only showing top 20 rows\n",
      "\n"
     ]
    },
    {
     "data": {
      "text/plain": [
       "10683"
      ]
     },
     "execution_count": 31,
     "metadata": {},
     "output_type": "execute_result"
    }
   ],
   "source": [
    "#Show the data\n",
    "df.show()\n",
    "#Number of rows\n",
    "df.count()"
   ]
  },
  {
   "cell_type": "markdown",
   "metadata": {},
   "source": [
    "## Clean the data "
   ]
  },
  {
   "cell_type": "code",
   "execution_count": 32,
   "metadata": {},
   "outputs": [
    {
     "name": "stdout",
     "output_type": "stream",
     "text": [
      "root\n",
      " |-- Airline: string (nullable = true)\n",
      " |-- Date_of_Journey: string (nullable = true)\n",
      " |-- Source: string (nullable = true)\n",
      " |-- Destination: string (nullable = true)\n",
      " |-- Route: string (nullable = true)\n",
      " |-- Dep_Time: timestamp (nullable = true)\n",
      " |-- Arrival_Time: string (nullable = true)\n",
      " |-- Duration: string (nullable = true)\n",
      " |-- Total_Stops: string (nullable = true)\n",
      " |-- Additional_Info: string (nullable = true)\n",
      " |-- Price: integer (nullable = true)\n",
      "\n"
     ]
    }
   ],
   "source": [
    "from pyspark.sql.functions import to_timestamp,col\n",
    "df.printSchema()\n",
    "# #Data format \n",
    "#  |-- Airline: string (nullable = true)\n",
    "#  |-- Date_of_Journey: string (nullable = true)\n",
    "#  |-- Source: string (nullable = true)\n",
    "#  |-- Destination: string (nullable = true)\n",
    "#  |-- Route: string (nullable = true)\n",
    "#  |-- Dep_Time: timestamp (nullable = true)\n",
    "#  |-- Arrival_Time: string (nullable = true)\n",
    "#  |-- Duration: string (nullable = true)²\n",
    "#  |-- Total_Stops: string (nullable = true)\n",
    "#  |-- Additional_Info: string (nullable = true)\n",
    "#  |-- Price: integer (nullable = true)\n",
    "#It is neccesary to change few format\n",
    "df=df.withColumn(df['Date_of_Journey'],to_timestamp(col('Date_of_Journey'),'dd/MM/yyyy'))\n",
    "\n",
    "from pyspark.sql.functions import col, to_timestamp, regexp_extract, when, concat, unix_timestamp, expr\n",
    "from pyspark.sql import functions as F\n",
    "\n",
    "# 1. Traiter la colonne `Arrival_Time`\n",
    "# Ajouter une date par défaut si `Arrival_Time` contient seulement l'heure (par exemple, \"13:15\")\n",
    "df = df.withColumn(\n",
    "    \"Arrival_Time_Processed\", \n",
    "    when(\n",
    "        col(\"Arrival_Time\").rlike(\"^\\d{2}:\\d{2}$\"),  # Si seulement l'heure est présente (HH:mm)\n",
    "        concat(col(\"Arrival_Time\"), \" 01 Jan 1970\")  # Ajouter une date par défaut\n",
    "    )\n",
    "    .when(\n",
    "        col(\"Arrival_Time\").rlike(\"^\\d{2}:\\d{2} \\d{2} [A-Za-z]{3}$\"),  # Si la date est partielle (HH:mm dd MMM)\n",
    "        concat(col(\"Arrival_Time\"), \" 2024\")  # Ajouter une année par défaut\n",
    "    )\n",
    "    .otherwise(col(\"Arrival_Time\"))  # Sinon, garder la valeur d'origine (format complet avec date)\n",
    ")\n",
    "\n",
    "# 2. Convertir `Arrival_Time_Processed` en `timestamp`\n",
    "df = df.withColumn(\"Arrival_Time\", to_timestamp(col(\"Arrival_Time_Processed\"), \"HH:mm dd MMM yyyy\"))\n",
    "\n",
    "# 3. Traiter la colonne `Duration` (extraction des heures et minutes)\n",
    "df = df.withColumn(\n",
    "    \"Duration_Hours\", \n",
    "    regexp_extract(col(\"Duration\"), r\"(\\d+)(?=h)\", 1).cast(\"int\")  # Extraire les heures\n",
    ")\n",
    "\n",
    "df = df.withColumn(\n",
    "    \"Duration_Minutes\", \n",
    "    regexp_extract(col(\"Duration\"), r\"(\\d+)(?=m)\", 1).cast(\"int\")  # Extraire les minutes\n",
    ")\n",
    "\n",
    "# Remplir les valeurs manquantes avec 0 (si l'heure ou les minutes sont absentes)\n",
    "df = df.fillna({\"Duration_Hours\": 0, \"Duration_Minutes\": 0})\n",
    "\n",
    "# 4. Convertir l'heure de départ `Dep_Time` en timestamp si ce n'est pas déjà le cas\n",
    "# Cela est probablement déjà fait puisque la colonne `Dep_Time` est de type `timestamp`, mais vous pouvez vérifier et effectuer une conversion si nécessaire\n",
    "df = df.withColumn(\"Dep_Time\", to_timestamp(col(\"Dep_Time\"), \"yyyy-MM-dd HH:mm:ss\"))\n",
    "\n",
    "# 5. Calculer l'heure d'arrivée en ajoutant la durée de vol à l'heure de départ\n",
    "df = df.withColumn(\n",
    "    \"Arrival_Time_Calculated\",\n",
    "    expr(\"Dep_Time + INTERVAL Duration_Hours HOURS + INTERVAL Duration_Minutes MINUTES\")\n",
    ")\n",
    "\n",
    "# Afficher les résultats finaux\n",
    "df.select(\"Airline\", \"Dep_Time\", \"Arrival_Time_Calculated\", \"Duration\", \"Arrival_Time\").show(truncate=False)\n"
   ]
  },
  {
   "cell_type": "code",
   "execution_count": 7,
   "metadata": {},
   "outputs": [
    {
     "name": "stderr",
     "output_type": "stream",
     "text": [
      "24/11/15 16:48:37 WARN CSVHeaderChecker: CSV header does not conform to the schema.\n",
      " Header: , airline, flight, source_city, departure_time, stops, arrival_time, destination_city, class, duration, days_left, price\n",
      " Schema: _c0, airline, flight, source_city, departure_time, stops, arrival_time, destination_city, class, duration, days_left, price\n",
      "Expected: _c0 but found: \n",
      "CSV file: file:///app/data/Dataset.csv\n"
     ]
    },
    {
     "name": "stdout",
     "output_type": "stream",
     "text": [
      "+---+-------+------+-----------+--------------+-----+------------+----------------+-----+--------+---------+-----+\n",
      "|_c0|airline|flight|source_city|departure_time|stops|arrival_time|destination_city|class|duration|days_left|price|\n",
      "+---+-------+------+-----------+--------------+-----+------------+----------------+-----+--------+---------+-----+\n",
      "+---+-------+------+-----------+--------------+-----+------------+----------------+-----+--------+---------+-----+\n",
      "\n"
     ]
    }
   ],
   "source": [
    "df.filter(df['_c0'].isNull()|df[\"airline\"].isNull() | df[\"flight\"].isNull() | df[\"source_city\"].isNull() | df[\"destination_city\"].isNull()| df[\"departure_time\"].isNull() | df[\"arrival_time\"].isNull() | df[\"stops\"].isNull() | df[\"class\"].isNull() | df[\"duration\"].isNull() | df[\"days_left\"].isNull() | df[\"price\"].isNull()).show()\n",
    "\n",
    "#No null values"
   ]
  },
  {
   "cell_type": "code",
   "execution_count": 24,
   "metadata": {},
   "outputs": [
    {
     "name": "stderr",
     "output_type": "stream",
     "text": [
      "24/11/15 16:59:22 WARN CSVHeaderChecker: CSV header does not conform to the schema.\n",
      " Header: , airline, flight, source_city, departure_time, stops, arrival_time, destination_city, class, duration, days_left, price\n",
      " Schema: _c0, airline, flight, source_city, departure_time, stops, arrival_time, destination_city, class, duration, days_left, price\n",
      "Expected: _c0 but found: \n",
      "CSV file: file:///app/data/Dataset.csv\n",
      "                                                                                \r"
     ]
    },
    {
     "data": {
      "text/plain": [
       "300153"
      ]
     },
     "execution_count": 24,
     "metadata": {},
     "output_type": "execute_result"
    }
   ],
   "source": [
    "#Delete duplicates\n",
    "df = df.dropDuplicates(['_c0'])\n",
    "df.count()"
   ]
  },
  {
   "cell_type": "code",
   "execution_count": 13,
   "metadata": {},
   "outputs": [
    {
     "name": "stderr",
     "output_type": "stream",
     "text": [
      "24/11/15 16:56:01 WARN CSVHeaderChecker: CSV header does not conform to the schema.\n",
      " Header: , airline, flight, source_city, departure_time, stops, arrival_time, destination_city, class, duration, days_left, price\n",
      " Schema: _c0, airline, flight, source_city, departure_time, stops, arrival_time, destination_city, class, duration, days_left, price\n",
      "Expected: _c0 but found: \n",
      "CSV file: file:///app/data/Dataset.csv\n",
      "                                                                                \r"
     ]
    },
    {
     "name": "stdout",
     "output_type": "stream",
     "text": [
      "+---+-------+------+-----------+--------------+-----+------------+----------------+-----+--------+---------+-----+-----+\n",
      "|_c0|airline|flight|source_city|departure_time|stops|arrival_time|destination_city|class|duration|days_left|price|count|\n",
      "+---+-------+------+-----------+--------------+-----+------------+----------------+-----+--------+---------+-----+-----+\n",
      "+---+-------+------+-----------+--------------+-----+------------+----------------+-----+--------+---------+-----+-----+\n",
      "\n"
     ]
    }
   ],
   "source": [
    "df_duplicates = df.groupBy(df.columns).count().filter(\"count > 1\")\n",
    "df_duplicates.show()\n"
   ]
  }
 ],
 "metadata": {
  "kernelspec": {
   "display_name": "Python 3 (ipykernel)",
   "language": "python",
   "name": "python3"
  },
  "language_info": {
   "codemirror_mode": {
    "name": "ipython",
    "version": 3
   },
   "file_extension": ".py",
   "mimetype": "text/x-python",
   "name": "python",
   "nbconvert_exporter": "python",
   "pygments_lexer": "ipython3",
   "version": "3.8.20"
  }
 },
 "nbformat": 4,
 "nbformat_minor": 2
}
