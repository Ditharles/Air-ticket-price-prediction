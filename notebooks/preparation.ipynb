{
 "cells": [
  {
   "cell_type": "markdown",
   "metadata": {},
   "source": [
    "## Start "
   ]
  },
  {
   "cell_type": "code",
   "execution_count": 84,
   "metadata": {},
   "outputs": [],
   "source": [
    "from pyspark.sql import SparkSession\n",
    "\n",
    "#Initialize the session \n",
    "spark=SparkSession.builder.appName(\"Preparation\").getOrCreate()\n",
    "\n",
    "#Read the data\n",
    "data=\"./data/Data.csv\" #Chemin vers le fichier\n",
    "df=spark.read.csv(data,header=True,inferSchema=True)\n"
   ]
  },
  {
   "cell_type": "code",
   "execution_count": 85,
   "metadata": {},
   "outputs": [
    {
     "name": "stdout",
     "output_type": "stream",
     "text": [
      "+-----------------+---------------+--------+-----------+--------------------+--------+------------+--------+-----------+--------------------+-----+\n",
      "|          Airline|Date_of_Journey|  Source|Destination|               Route|Dep_Time|Arrival_Time|Duration|Total_Stops|     Additional_Info|Price|\n",
      "+-----------------+---------------+--------+-----------+--------------------+--------+------------+--------+-----------+--------------------+-----+\n",
      "|           IndiGo|     24/03/2019|Banglore|  New Delhi|           BLR → DEL|   22:20|01:10 22 Mar|  2h 50m|   non-stop|             No info| 3897|\n",
      "|        Air India|      1/05/2019| Kolkata|   Banglore|CCU → IXR → BBI →...|   05:50|       13:15|  7h 25m|    2 stops|             No info| 7662|\n",
      "|      Jet Airways|      9/06/2019|   Delhi|     Cochin|DEL → LKO → BOM →...|   09:25|04:25 10 Jun|     19h|    2 stops|             No info|13882|\n",
      "|           IndiGo|     12/05/2019| Kolkata|   Banglore|     CCU → NAG → BLR|   18:05|       23:30|  5h 25m|     1 stop|             No info| 6218|\n",
      "|           IndiGo|     01/03/2019|Banglore|  New Delhi|     BLR → NAG → DEL|   16:50|       21:35|  4h 45m|     1 stop|             No info|13302|\n",
      "|         SpiceJet|     24/06/2019| Kolkata|   Banglore|           CCU → BLR|   09:00|       11:25|  2h 25m|   non-stop|             No info| 3873|\n",
      "|      Jet Airways|     12/03/2019|Banglore|  New Delhi|     BLR → BOM → DEL|   18:55|10:25 13 Mar| 15h 30m|     1 stop|In-flight meal no...|11087|\n",
      "|      Jet Airways|     01/03/2019|Banglore|  New Delhi|     BLR → BOM → DEL|   08:00|05:05 02 Mar|  21h 5m|     1 stop|             No info|22270|\n",
      "|      Jet Airways|     12/03/2019|Banglore|  New Delhi|     BLR → BOM → DEL|   08:55|10:25 13 Mar| 25h 30m|     1 stop|In-flight meal no...|11087|\n",
      "|Multiple carriers|     27/05/2019|   Delhi|     Cochin|     DEL → BOM → COK|   11:25|       19:15|  7h 50m|     1 stop|             No info| 8625|\n",
      "|        Air India|      1/06/2019|   Delhi|     Cochin|     DEL → BLR → COK|   09:45|       23:00| 13h 15m|     1 stop|             No info| 8907|\n",
      "|           IndiGo|     18/04/2019| Kolkata|   Banglore|           CCU → BLR|   20:20|       22:55|  2h 35m|   non-stop|             No info| 4174|\n",
      "|        Air India|     24/06/2019| Chennai|    Kolkata|           MAA → CCU|   11:40|       13:55|  2h 15m|   non-stop|             No info| 4667|\n",
      "|      Jet Airways|      9/05/2019| Kolkata|   Banglore|     CCU → BOM → BLR|   21:10|09:20 10 May| 12h 10m|     1 stop|In-flight meal no...| 9663|\n",
      "|           IndiGo|     24/04/2019| Kolkata|   Banglore|           CCU → BLR|   17:15|       19:50|  2h 35m|   non-stop|             No info| 4804|\n",
      "|        Air India|      3/03/2019|   Delhi|     Cochin|DEL → AMD → BOM →...|   16:40|19:15 04 Mar| 26h 35m|    2 stops|             No info|14011|\n",
      "|         SpiceJet|     15/04/2019|   Delhi|     Cochin|     DEL → PNQ → COK|   08:45|       13:15|  4h 30m|     1 stop|             No info| 5830|\n",
      "|      Jet Airways|     12/06/2019|   Delhi|     Cochin|     DEL → BOM → COK|   14:00|12:35 13 Jun| 22h 35m|     1 stop|In-flight meal no...|10262|\n",
      "|        Air India|     12/06/2019|   Delhi|     Cochin|DEL → CCU → BOM →...|   20:15|19:15 13 Jun|     23h|    2 stops|             No info|13381|\n",
      "|      Jet Airways|     27/05/2019|   Delhi|     Cochin|     DEL → BOM → COK|   16:00|12:35 28 May| 20h 35m|     1 stop|In-flight meal no...|12898|\n",
      "+-----------------+---------------+--------+-----------+--------------------+--------+------------+--------+-----------+--------------------+-----+\n",
      "only showing top 20 rows\n",
      "\n"
     ]
    },
    {
     "data": {
      "text/plain": [
       "10683"
      ]
     },
     "execution_count": 85,
     "metadata": {},
     "output_type": "execute_result"
    }
   ],
   "source": [
    "#Show the data\n",
    "df.show()\n",
    "#Number of rows\n",
    "df.count()"
   ]
  },
  {
   "cell_type": "code",
   "execution_count": 86,
   "metadata": {},
   "outputs": [
    {
     "name": "stdout",
     "output_type": "stream",
     "text": [
      "+-----------+\n",
      "|Total_Stops|\n",
      "+-----------+\n",
      "|    4 stops|\n",
      "|   non-stop|\n",
      "|    2 stops|\n",
      "|     1 stop|\n",
      "|    3 stops|\n",
      "|       NULL|\n",
      "+-----------+\n",
      "\n"
     ]
    }
   ],
   "source": [
    "df.select(\"Total_Stops\").distinct().show()"
   ]
  },
  {
   "cell_type": "markdown",
   "metadata": {},
   "source": [
    "## Clean the data "
   ]
  },
  {
   "cell_type": "code",
   "execution_count": 87,
   "metadata": {},
   "outputs": [
    {
     "name": "stdout",
     "output_type": "stream",
     "text": [
      "root\n",
      " |-- Airline: string (nullable = true)\n",
      " |-- Date_of_Journey: string (nullable = true)\n",
      " |-- Source: string (nullable = true)\n",
      " |-- Destination: string (nullable = true)\n",
      " |-- Route: string (nullable = true)\n",
      " |-- Dep_Time: string (nullable = true)\n",
      " |-- Arrival_Time: string (nullable = true)\n",
      " |-- Duration: string (nullable = true)\n",
      " |-- Total_Stops: string (nullable = true)\n",
      " |-- Additional_Info: string (nullable = true)\n",
      " |-- Price: integer (nullable = true)\n",
      "\n"
     ]
    }
   ],
   "source": [
    "df.printSchema()\n",
    "# #Data format \n",
    "#  |-- Airline: string (nullable = true)\n",
    "#  |-- Date_of_Journey: string (nullable = true)\n",
    "#  |-- Source: string (nullable = true)\n",
    "#  |-- Destination: string (nullable = true)\n",
    "#  |-- Route: string (nullable = true)\n",
    "#  |-- Dep_Time: timestamp (nullable = true)\n",
    "#  |-- Arrival_Time: string (nullable = true)\n",
    "#  |-- Duration: string (nullable = true)\n",
    "#  |-- Total_Stops: string (nullable = true)\n",
    "#  |-- Additional_Info: string (nullable = true)\n",
    "#  |-- Price: integer (nullable = true)\n",
    "#It is neccesary to change few format"
   ]
  },
  {
   "cell_type": "code",
   "execution_count": 88,
   "metadata": {},
   "outputs": [
    {
     "name": "stdout",
     "output_type": "stream",
     "text": [
      "root\n",
      " |-- Airline: string (nullable = true)\n",
      " |-- Date_of_Journey: string (nullable = true)\n",
      " |-- Source: string (nullable = true)\n",
      " |-- Destination: string (nullable = true)\n",
      " |-- Route: string (nullable = true)\n",
      " |-- Dep_Time: string (nullable = true)\n",
      " |-- Arrival_Time: string (nullable = true)\n",
      " |-- Duration: string (nullable = true)\n",
      " |-- Total_Stops: string (nullable = true)\n",
      " |-- Additional_Info: string (nullable = true)\n",
      " |-- Price: integer (nullable = true)\n",
      " |-- Day: string (nullable = true)\n",
      " |-- Month: string (nullable = true)\n",
      " |-- Year: string (nullable = true)\n",
      "\n",
      "+-----------------+---------------+--------+-----------+--------------------+--------+------------+--------+-----------+--------------------+-----+---+-----+----+\n",
      "|          Airline|Date_of_Journey|  Source|Destination|               Route|Dep_Time|Arrival_Time|Duration|Total_Stops|     Additional_Info|Price|Day|Month|Year|\n",
      "+-----------------+---------------+--------+-----------+--------------------+--------+------------+--------+-----------+--------------------+-----+---+-----+----+\n",
      "|           IndiGo|     2019-03-24|Banglore|  New Delhi|           BLR → DEL|   22:20|01:10 22 Mar|  2h 50m|   non-stop|             No info| 3897| 24|   03|2019|\n",
      "|        Air India|     2019-05-01| Kolkata|   Banglore|CCU → IXR → BBI →...|   05:50|       13:15|  7h 25m|    2 stops|             No info| 7662| 01|   05|2019|\n",
      "|      Jet Airways|     2019-06-09|   Delhi|     Cochin|DEL → LKO → BOM →...|   09:25|04:25 10 Jun|     19h|    2 stops|             No info|13882| 09|   06|2019|\n",
      "|           IndiGo|     2019-05-12| Kolkata|   Banglore|     CCU → NAG → BLR|   18:05|       23:30|  5h 25m|     1 stop|             No info| 6218| 12|   05|2019|\n",
      "|           IndiGo|     2019-03-01|Banglore|  New Delhi|     BLR → NAG → DEL|   16:50|       21:35|  4h 45m|     1 stop|             No info|13302| 01|   03|2019|\n",
      "|         SpiceJet|     2019-06-24| Kolkata|   Banglore|           CCU → BLR|   09:00|       11:25|  2h 25m|   non-stop|             No info| 3873| 24|   06|2019|\n",
      "|      Jet Airways|     2019-03-12|Banglore|  New Delhi|     BLR → BOM → DEL|   18:55|10:25 13 Mar| 15h 30m|     1 stop|In-flight meal no...|11087| 12|   03|2019|\n",
      "|      Jet Airways|     2019-03-01|Banglore|  New Delhi|     BLR → BOM → DEL|   08:00|05:05 02 Mar|  21h 5m|     1 stop|             No info|22270| 01|   03|2019|\n",
      "|      Jet Airways|     2019-03-12|Banglore|  New Delhi|     BLR → BOM → DEL|   08:55|10:25 13 Mar| 25h 30m|     1 stop|In-flight meal no...|11087| 12|   03|2019|\n",
      "|Multiple carriers|     2019-05-27|   Delhi|     Cochin|     DEL → BOM → COK|   11:25|       19:15|  7h 50m|     1 stop|             No info| 8625| 27|   05|2019|\n",
      "|        Air India|     2019-06-01|   Delhi|     Cochin|     DEL → BLR → COK|   09:45|       23:00| 13h 15m|     1 stop|             No info| 8907| 01|   06|2019|\n",
      "|           IndiGo|     2019-04-18| Kolkata|   Banglore|           CCU → BLR|   20:20|       22:55|  2h 35m|   non-stop|             No info| 4174| 18|   04|2019|\n",
      "|        Air India|     2019-06-24| Chennai|    Kolkata|           MAA → CCU|   11:40|       13:55|  2h 15m|   non-stop|             No info| 4667| 24|   06|2019|\n",
      "|      Jet Airways|     2019-05-09| Kolkata|   Banglore|     CCU → BOM → BLR|   21:10|09:20 10 May| 12h 10m|     1 stop|In-flight meal no...| 9663| 09|   05|2019|\n",
      "|           IndiGo|     2019-04-24| Kolkata|   Banglore|           CCU → BLR|   17:15|       19:50|  2h 35m|   non-stop|             No info| 4804| 24|   04|2019|\n",
      "|        Air India|     2019-03-03|   Delhi|     Cochin|DEL → AMD → BOM →...|   16:40|19:15 04 Mar| 26h 35m|    2 stops|             No info|14011| 03|   03|2019|\n",
      "|         SpiceJet|     2019-04-15|   Delhi|     Cochin|     DEL → PNQ → COK|   08:45|       13:15|  4h 30m|     1 stop|             No info| 5830| 15|   04|2019|\n",
      "|      Jet Airways|     2019-06-12|   Delhi|     Cochin|     DEL → BOM → COK|   14:00|12:35 13 Jun| 22h 35m|     1 stop|In-flight meal no...|10262| 12|   06|2019|\n",
      "|        Air India|     2019-06-12|   Delhi|     Cochin|DEL → CCU → BOM →...|   20:15|19:15 13 Jun|     23h|    2 stops|             No info|13381| 12|   06|2019|\n",
      "|      Jet Airways|     2019-05-27|   Delhi|     Cochin|     DEL → BOM → COK|   16:00|12:35 28 May| 20h 35m|     1 stop|In-flight meal no...|12898| 27|   05|2019|\n",
      "+-----------------+---------------+--------+-----------+--------------------+--------+------------+--------+-----------+--------------------+-----+---+-----+----+\n",
      "only showing top 20 rows\n",
      "\n"
     ]
    }
   ],
   "source": [
    "from pyspark.sql.functions import (\n",
    "    col,  \n",
    "    to_timestamp, \n",
    "    when, \n",
    "    date_format\n",
    ")\n",
    "\n",
    "# Configurer Spark pour utiliser le mode 'LEGACY' qui accepte les formats de date anciens\n",
    "spark.conf.set(\"spark.sql.legacy.timeParserPolicy\", \"LEGACY\")\n",
    "\n",
    "\n",
    "# 1. Convert Date_of_Journey to timestamp\n",
    "# Format: dd/MM/yyyy to timestamp\n",
    "df = df.withColumn(\"Date_of_Journey\", date_format(to_timestamp(col(\"Date_of_Journey\"), \"dd/MM/yyyy\"), \"yyyy-MM-dd\"))\n",
    "df=df.withColumn(\"Day\", date_format(to_timestamp(col(\"Date_of_Journey\"), \"yyyy-MM-dd\"), \"dd\"))\n",
    "df=df.withColumn(\"Month\", date_format(to_timestamp(col(\"Date_of_Journey\"), \"yyyy-MM-dd\"), \"MM\"))\n",
    "df=df.withColumn(\"Year\", date_format(to_timestamp(col(\"Date_of_Journey\"), \"yyyy-MM-dd\"), \"yyyy\"))\n",
    "\n",
    "# 2. Process Dep_Time\n",
    "\n",
    "df = df.withColumn('Dep_Time', date_format(col('Dep_Time'), 'HH:mm'))\n",
    "\n",
    "df.printSchema()\n",
    "df.show()"
   ]
  },
  {
   "cell_type": "code",
   "execution_count": 89,
   "metadata": {},
   "outputs": [
    {
     "name": "stdout",
     "output_type": "stream",
     "text": [
      "root\n",
      " |-- Airline: string (nullable = true)\n",
      " |-- Date_of_Journey: string (nullable = true)\n",
      " |-- Source: string (nullable = true)\n",
      " |-- Destination: string (nullable = true)\n",
      " |-- Route: string (nullable = true)\n",
      " |-- Dep_Time: string (nullable = true)\n",
      " |-- Arrival_Time: string (nullable = true)\n",
      " |-- Duration: string (nullable = true)\n",
      " |-- Total_Stops: string (nullable = true)\n",
      " |-- Additional_Info: string (nullable = true)\n",
      " |-- Price: integer (nullable = true)\n",
      " |-- Day: string (nullable = true)\n",
      " |-- Month: string (nullable = true)\n",
      " |-- Year: string (nullable = true)\n",
      "\n",
      "+-----------------+---------------+--------+-----------+---------------------+--------+------------+--------+-----------+---------------------------+-----+---+-----+----+\n",
      "|Airline          |Date_of_Journey|Source  |Destination|Route                |Dep_Time|Arrival_Time|Duration|Total_Stops|Additional_Info            |Price|Day|Month|Year|\n",
      "+-----------------+---------------+--------+-----------+---------------------+--------+------------+--------+-----------+---------------------------+-----+---+-----+----+\n",
      "|IndiGo           |2019-03-24     |Banglore|New Delhi  |BLR → DEL            |22:20   |01:10       |2h 50m  |non-stop   |No info                    |3897 |24 |03   |2019|\n",
      "|Air India        |2019-05-01     |Kolkata |Banglore   |CCU → IXR → BBI → BLR|05:50   |13:15       |7h 25m  |2 stops    |No info                    |7662 |01 |05   |2019|\n",
      "|Jet Airways      |2019-06-09     |Delhi   |Cochin     |DEL → LKO → BOM → COK|09:25   |04:25       |19h     |2 stops    |No info                    |13882|09 |06   |2019|\n",
      "|IndiGo           |2019-05-12     |Kolkata |Banglore   |CCU → NAG → BLR      |18:05   |23:30       |5h 25m  |1 stop     |No info                    |6218 |12 |05   |2019|\n",
      "|IndiGo           |2019-03-01     |Banglore|New Delhi  |BLR → NAG → DEL      |16:50   |21:35       |4h 45m  |1 stop     |No info                    |13302|01 |03   |2019|\n",
      "|SpiceJet         |2019-06-24     |Kolkata |Banglore   |CCU → BLR            |09:00   |11:25       |2h 25m  |non-stop   |No info                    |3873 |24 |06   |2019|\n",
      "|Jet Airways      |2019-03-12     |Banglore|New Delhi  |BLR → BOM → DEL      |18:55   |10:25       |15h 30m |1 stop     |In-flight meal not included|11087|12 |03   |2019|\n",
      "|Jet Airways      |2019-03-01     |Banglore|New Delhi  |BLR → BOM → DEL      |08:00   |05:05       |21h 5m  |1 stop     |No info                    |22270|01 |03   |2019|\n",
      "|Jet Airways      |2019-03-12     |Banglore|New Delhi  |BLR → BOM → DEL      |08:55   |10:25       |25h 30m |1 stop     |In-flight meal not included|11087|12 |03   |2019|\n",
      "|Multiple carriers|2019-05-27     |Delhi   |Cochin     |DEL → BOM → COK      |11:25   |19:15       |7h 50m  |1 stop     |No info                    |8625 |27 |05   |2019|\n",
      "|Air India        |2019-06-01     |Delhi   |Cochin     |DEL → BLR → COK      |09:45   |23:00       |13h 15m |1 stop     |No info                    |8907 |01 |06   |2019|\n",
      "|IndiGo           |2019-04-18     |Kolkata |Banglore   |CCU → BLR            |20:20   |22:55       |2h 35m  |non-stop   |No info                    |4174 |18 |04   |2019|\n",
      "|Air India        |2019-06-24     |Chennai |Kolkata    |MAA → CCU            |11:40   |13:55       |2h 15m  |non-stop   |No info                    |4667 |24 |06   |2019|\n",
      "|Jet Airways      |2019-05-09     |Kolkata |Banglore   |CCU → BOM → BLR      |21:10   |09:20       |12h 10m |1 stop     |In-flight meal not included|9663 |09 |05   |2019|\n",
      "|IndiGo           |2019-04-24     |Kolkata |Banglore   |CCU → BLR            |17:15   |19:50       |2h 35m  |non-stop   |No info                    |4804 |24 |04   |2019|\n",
      "|Air India        |2019-03-03     |Delhi   |Cochin     |DEL → AMD → BOM → COK|16:40   |19:15       |26h 35m |2 stops    |No info                    |14011|03 |03   |2019|\n",
      "|SpiceJet         |2019-04-15     |Delhi   |Cochin     |DEL → PNQ → COK      |08:45   |13:15       |4h 30m  |1 stop     |No info                    |5830 |15 |04   |2019|\n",
      "|Jet Airways      |2019-06-12     |Delhi   |Cochin     |DEL → BOM → COK      |14:00   |12:35       |22h 35m |1 stop     |In-flight meal not included|10262|12 |06   |2019|\n",
      "|Air India        |2019-06-12     |Delhi   |Cochin     |DEL → CCU → BOM → COK|20:15   |19:15       |23h     |2 stops    |No info                    |13381|12 |06   |2019|\n",
      "|Jet Airways      |2019-05-27     |Delhi   |Cochin     |DEL → BOM → COK      |16:00   |12:35       |20h 35m |1 stop     |In-flight meal not included|12898|27 |05   |2019|\n",
      "+-----------------+---------------+--------+-----------+---------------------+--------+------------+--------+-----------+---------------------------+-----+---+-----+----+\n",
      "only showing top 20 rows\n",
      "\n"
     ]
    }
   ],
   "source": [
    "from pyspark.sql.functions import udf, col\n",
    "from pyspark.sql.types import StringType\n",
    "\n",
    "# Function to clean and extract only the hour\n",
    "def clean_arrival_time(arrival_time):\n",
    "    \"\"\"\n",
    "    Extract the hour part (HH:mm) from the Arrival_Time.\n",
    "    Args:\n",
    "        arrival_time (str): Raw arrival time.\n",
    "    Returns:\n",
    "        str: Cleaned time in HH:mm format.\n",
    "    \"\"\"\n",
    "    if not arrival_time:\n",
    "        return None\n",
    "\n",
    "    # If the time contains both hour and date (like '01:10 22 Mar|'), split and get the hour part\n",
    "    if \" \" in arrival_time:\n",
    "        return arrival_time.split(\" \")[0]  # Get only the time part before the space (HH:mm)\n",
    "    else:\n",
    "        return arrival_time  # Already in HH:mm format\n",
    "\n",
    "# Create a UDF to apply the function\n",
    "clean_arrival_time_udf = udf(clean_arrival_time, StringType())\n",
    "\n",
    "# Apply the transformation on the DataFrame to extract the hour part\n",
    "df = df.withColumn(\n",
    "    \"Arrival_Time\", \n",
    "    clean_arrival_time_udf(col(\"Arrival_Time\"))  # Apply UDF to extract the time\n",
    ")\n",
    "\n",
    "# Show the schema and the DataFrame data\n",
    "df.printSchema()\n",
    "df.show(truncate=False)\n"
   ]
  },
  {
   "cell_type": "code",
   "execution_count": 90,
   "metadata": {},
   "outputs": [
    {
     "name": "stdout",
     "output_type": "stream",
     "text": [
      "root\n",
      " |-- Airline: string (nullable = true)\n",
      " |-- Date_of_Journey: string (nullable = true)\n",
      " |-- Source: string (nullable = true)\n",
      " |-- Destination: string (nullable = true)\n",
      " |-- Route: string (nullable = true)\n",
      " |-- Dep_Time: string (nullable = true)\n",
      " |-- Arrival_Time: string (nullable = true)\n",
      " |-- Duration: float (nullable = true)\n",
      " |-- Total_Stops: string (nullable = true)\n",
      " |-- Additional_Info: string (nullable = true)\n",
      " |-- Price: integer (nullable = true)\n",
      " |-- Day: string (nullable = true)\n",
      " |-- Month: string (nullable = true)\n",
      " |-- Year: string (nullable = true)\n",
      "\n",
      "+-----------------+---------------+--------+-----------+---------------------+--------+------------+---------+-----------+---------------------------+-----+---+-----+----+\n",
      "|Airline          |Date_of_Journey|Source  |Destination|Route                |Dep_Time|Arrival_Time|Duration |Total_Stops|Additional_Info            |Price|Day|Month|Year|\n",
      "+-----------------+---------------+--------+-----------+---------------------+--------+------------+---------+-----------+---------------------------+-----+---+-----+----+\n",
      "|IndiGo           |2019-03-24     |Banglore|New Delhi  |BLR → DEL            |22:20   |01:10       |2.8333333|non-stop   |No info                    |3897 |24 |03   |2019|\n",
      "|Air India        |2019-05-01     |Kolkata |Banglore   |CCU → IXR → BBI → BLR|05:50   |13:15       |7.4166665|2 stops    |No info                    |7662 |01 |05   |2019|\n",
      "|Jet Airways      |2019-06-09     |Delhi   |Cochin     |DEL → LKO → BOM → COK|09:25   |04:25       |19.0     |2 stops    |No info                    |13882|09 |06   |2019|\n",
      "|IndiGo           |2019-05-12     |Kolkata |Banglore   |CCU → NAG → BLR      |18:05   |23:30       |5.4166665|1 stop     |No info                    |6218 |12 |05   |2019|\n",
      "|IndiGo           |2019-03-01     |Banglore|New Delhi  |BLR → NAG → DEL      |16:50   |21:35       |4.75     |1 stop     |No info                    |13302|01 |03   |2019|\n",
      "|SpiceJet         |2019-06-24     |Kolkata |Banglore   |CCU → BLR            |09:00   |11:25       |2.4166667|non-stop   |No info                    |3873 |24 |06   |2019|\n",
      "|Jet Airways      |2019-03-12     |Banglore|New Delhi  |BLR → BOM → DEL      |18:55   |10:25       |15.5     |1 stop     |In-flight meal not included|11087|12 |03   |2019|\n",
      "|Jet Airways      |2019-03-01     |Banglore|New Delhi  |BLR → BOM → DEL      |08:00   |05:05       |21.083334|1 stop     |No info                    |22270|01 |03   |2019|\n",
      "|Jet Airways      |2019-03-12     |Banglore|New Delhi  |BLR → BOM → DEL      |08:55   |10:25       |25.5     |1 stop     |In-flight meal not included|11087|12 |03   |2019|\n",
      "|Multiple carriers|2019-05-27     |Delhi   |Cochin     |DEL → BOM → COK      |11:25   |19:15       |7.8333335|1 stop     |No info                    |8625 |27 |05   |2019|\n",
      "|Air India        |2019-06-01     |Delhi   |Cochin     |DEL → BLR → COK      |09:45   |23:00       |13.25    |1 stop     |No info                    |8907 |01 |06   |2019|\n",
      "|IndiGo           |2019-04-18     |Kolkata |Banglore   |CCU → BLR            |20:20   |22:55       |2.5833333|non-stop   |No info                    |4174 |18 |04   |2019|\n",
      "|Air India        |2019-06-24     |Chennai |Kolkata    |MAA → CCU            |11:40   |13:55       |2.25     |non-stop   |No info                    |4667 |24 |06   |2019|\n",
      "|Jet Airways      |2019-05-09     |Kolkata |Banglore   |CCU → BOM → BLR      |21:10   |09:20       |12.166667|1 stop     |In-flight meal not included|9663 |09 |05   |2019|\n",
      "|IndiGo           |2019-04-24     |Kolkata |Banglore   |CCU → BLR            |17:15   |19:50       |2.5833333|non-stop   |No info                    |4804 |24 |04   |2019|\n",
      "|Air India        |2019-03-03     |Delhi   |Cochin     |DEL → AMD → BOM → COK|16:40   |19:15       |26.583334|2 stops    |No info                    |14011|03 |03   |2019|\n",
      "|SpiceJet         |2019-04-15     |Delhi   |Cochin     |DEL → PNQ → COK      |08:45   |13:15       |4.5      |1 stop     |No info                    |5830 |15 |04   |2019|\n",
      "|Jet Airways      |2019-06-12     |Delhi   |Cochin     |DEL → BOM → COK      |14:00   |12:35       |22.583334|1 stop     |In-flight meal not included|10262|12 |06   |2019|\n",
      "|Air India        |2019-06-12     |Delhi   |Cochin     |DEL → CCU → BOM → COK|20:15   |19:15       |23.0     |2 stops    |No info                    |13381|12 |06   |2019|\n",
      "|Jet Airways      |2019-05-27     |Delhi   |Cochin     |DEL → BOM → COK      |16:00   |12:35       |20.583334|1 stop     |In-flight meal not included|12898|27 |05   |2019|\n",
      "+-----------------+---------------+--------+-----------+---------------------+--------+------------+---------+-----------+---------------------------+-----+---+-----+----+\n",
      "only showing top 20 rows\n",
      "\n"
     ]
    }
   ],
   "source": [
    "from pyspark.sql.functions import udf, col\n",
    "from pyspark.sql.types import FloatType\n",
    "\n",
    "# 4. Process Duration\n",
    "# Convert duration from 'Xh Ym' format to hours\n",
    "def duration_to_hours(duration):\n",
    "    \"\"\"\n",
    "    Convert flight duration to hours.\n",
    "    Args:\n",
    "        duration (str): Duration in format 'Xh Ym' or 'Xh' or 'Ym'.\n",
    "    Returns:\n",
    "        float: Total duration in hours.\n",
    "    \"\"\"\n",
    "    if not duration:\n",
    "        return None\n",
    "    \n",
    "    total_hours = 0.0\n",
    "    \n",
    "    # Process hours and minutes\n",
    "    if \"h\" in duration:\n",
    "        hours = float(duration.split(\"h\")[0].strip())\n",
    "        total_hours += hours  # Add hours directly\n",
    "        if \"m\" in duration:\n",
    "            minutes = int(duration.split(\"h\")[1].split(\"m\")[0].strip())\n",
    "            total_hours += minutes / 60.0  # Convert minutes to hours and add\n",
    "    elif \"m\" in duration:\n",
    "        minutes = int(duration.replace(\"m\", \"\").strip())\n",
    "        total_hours += minutes / 60.0  # Convert minutes to hours\n",
    "    \n",
    "    return total_hours\n",
    "\n",
    "# Create a UDF to apply the function\n",
    "duration_to_hours_udf = udf(duration_to_hours, FloatType())\n",
    "\n",
    "# Apply the transformation on the DataFrame to convert duration to hours\n",
    "df = df.withColumn(\"Duration\", duration_to_hours_udf(col(\"Duration\")))\n",
    "\n",
    "# Show the schema and the DataFrame data\n",
    "df.printSchema()\n",
    "df.show(truncate=False)\n"
   ]
  },
  {
   "cell_type": "code",
   "execution_count": 91,
   "metadata": {},
   "outputs": [
    {
     "name": "stdout",
     "output_type": "stream",
     "text": [
      "root\n",
      " |-- Airline: string (nullable = true)\n",
      " |-- Date_of_Journey: string (nullable = true)\n",
      " |-- Source: string (nullable = true)\n",
      " |-- Destination: string (nullable = true)\n",
      " |-- Dep_Time: string (nullable = true)\n",
      " |-- Arrival_Time: string (nullable = true)\n",
      " |-- Duration: float (nullable = true)\n",
      " |-- Total_Stops: integer (nullable = true)\n",
      " |-- Additional_Info: string (nullable = true)\n",
      " |-- Price: integer (nullable = true)\n",
      " |-- Day: string (nullable = true)\n",
      " |-- Month: string (nullable = true)\n",
      " |-- Year: string (nullable = true)\n",
      "\n"
     ]
    }
   ],
   "source": [
    "# 5. Process Total_Stops\n",
    "# Convert text descriptions to numeric values\n",
    "df = df.withColumn(\n",
    "    \"Total_Stops\", \n",
    "    when(col(\"Total_Stops\").contains(\"non-stop\"), 0)\n",
    "    .when(col(\"Total_Stops\").contains(\"1 stop\"), 1)\n",
    "    .when(col(\"Total_Stops\").contains(\"2 stops\"), 2)\n",
    "    .when(col(\"Total_Stops\").contains(\"3 stops\"), 3)\n",
    "    .when(col(\"Total_Stops\").contains(\"4 stops\"), 4)\n",
    "    .otherwise(None)  # Use None instead of 0 for unknown cases\n",
    ")\n",
    "\n",
    "# 6. Add data validations\n",
    "# Remove rows with null values in critical columns\n",
    "df = df.filter(\n",
    "    (col(\"Duration\").isNotNull()) &\n",
    "    (col(\"Dep_Time\").isNotNull()) &\n",
    "    (col(\"Arrival_Time\").isNotNull())\n",
    ")\n",
    "\n",
    "\n",
    "#Drop the route \n",
    "df=df.drop(\"Route\")\n",
    "# Display schema and sample data\n",
    "df.printSchema()\n"
   ]
  },
  {
   "cell_type": "code",
   "execution_count": 92,
   "metadata": {},
   "outputs": [
    {
     "name": "stdout",
     "output_type": "stream",
     "text": [
      "+-----------------+---------------+--------+-----------+--------+------------+---------+-----------+--------------------+-----+---+-----+----+\n",
      "|          Airline|Date_of_Journey|  Source|Destination|Dep_Time|Arrival_Time| Duration|Total_Stops|     Additional_Info|Price|Day|Month|Year|\n",
      "+-----------------+---------------+--------+-----------+--------+------------+---------+-----------+--------------------+-----+---+-----+----+\n",
      "|           IndiGo|     2019-03-24|Banglore|  New Delhi|   22:20|       01:10|2.8333333|          0|             No info| 3897| 24|   03|2019|\n",
      "|        Air India|     2019-05-01| Kolkata|   Banglore|   05:50|       13:15|7.4166665|          2|             No info| 7662| 01|   05|2019|\n",
      "|      Jet Airways|     2019-06-09|   Delhi|     Cochin|   09:25|       04:25|     19.0|          2|             No info|13882| 09|   06|2019|\n",
      "|           IndiGo|     2019-05-12| Kolkata|   Banglore|   18:05|       23:30|5.4166665|          1|             No info| 6218| 12|   05|2019|\n",
      "|           IndiGo|     2019-03-01|Banglore|  New Delhi|   16:50|       21:35|     4.75|          1|             No info|13302| 01|   03|2019|\n",
      "|         SpiceJet|     2019-06-24| Kolkata|   Banglore|   09:00|       11:25|2.4166667|          0|             No info| 3873| 24|   06|2019|\n",
      "|      Jet Airways|     2019-03-12|Banglore|  New Delhi|   18:55|       10:25|     15.5|          1|In-flight meal no...|11087| 12|   03|2019|\n",
      "|      Jet Airways|     2019-03-01|Banglore|  New Delhi|   08:00|       05:05|21.083334|          1|             No info|22270| 01|   03|2019|\n",
      "|      Jet Airways|     2019-03-12|Banglore|  New Delhi|   08:55|       10:25|     25.5|          1|In-flight meal no...|11087| 12|   03|2019|\n",
      "|Multiple carriers|     2019-05-27|   Delhi|     Cochin|   11:25|       19:15|7.8333335|          1|             No info| 8625| 27|   05|2019|\n",
      "|        Air India|     2019-06-01|   Delhi|     Cochin|   09:45|       23:00|    13.25|          1|             No info| 8907| 01|   06|2019|\n",
      "|           IndiGo|     2019-04-18| Kolkata|   Banglore|   20:20|       22:55|2.5833333|          0|             No info| 4174| 18|   04|2019|\n",
      "|        Air India|     2019-06-24| Chennai|    Kolkata|   11:40|       13:55|     2.25|          0|             No info| 4667| 24|   06|2019|\n",
      "|      Jet Airways|     2019-05-09| Kolkata|   Banglore|   21:10|       09:20|12.166667|          1|In-flight meal no...| 9663| 09|   05|2019|\n",
      "|           IndiGo|     2019-04-24| Kolkata|   Banglore|   17:15|       19:50|2.5833333|          0|             No info| 4804| 24|   04|2019|\n",
      "|        Air India|     2019-03-03|   Delhi|     Cochin|   16:40|       19:15|26.583334|          2|             No info|14011| 03|   03|2019|\n",
      "|         SpiceJet|     2019-04-15|   Delhi|     Cochin|   08:45|       13:15|      4.5|          1|             No info| 5830| 15|   04|2019|\n",
      "|      Jet Airways|     2019-06-12|   Delhi|     Cochin|   14:00|       12:35|22.583334|          1|In-flight meal no...|10262| 12|   06|2019|\n",
      "|        Air India|     2019-06-12|   Delhi|     Cochin|   20:15|       19:15|     23.0|          2|             No info|13381| 12|   06|2019|\n",
      "|      Jet Airways|     2019-05-27|   Delhi|     Cochin|   16:00|       12:35|20.583334|          1|In-flight meal no...|12898| 27|   05|2019|\n",
      "+-----------------+---------------+--------+-----------+--------+------------+---------+-----------+--------------------+-----+---+-----+----+\n",
      "only showing top 20 rows\n",
      "\n"
     ]
    }
   ],
   "source": [
    "df.show()"
   ]
  },
  {
   "cell_type": "code",
   "execution_count": 93,
   "metadata": {},
   "outputs": [
    {
     "data": {
      "text/plain": [
       "10461"
      ]
     },
     "execution_count": 93,
     "metadata": {},
     "output_type": "execute_result"
    }
   ],
   "source": [
    "#Delete duplicates\n",
    "df = df.distinct()\n",
    "df.count()"
   ]
  },
  {
   "cell_type": "markdown",
   "metadata": {},
   "source": [
    "## Pretreatment of data"
   ]
  },
  {
   "cell_type": "code",
   "execution_count": null,
   "metadata": {},
   "outputs": [],
   "source": []
  }
 ],
 "metadata": {
  "kernelspec": {
   "display_name": "Python 3 (ipykernel)",
   "language": "python",
   "name": "python3"
  },
  "language_info": {
   "codemirror_mode": {
    "name": "ipython",
    "version": 3
   },
   "file_extension": ".py",
   "mimetype": "text/x-python",
   "name": "python",
   "nbconvert_exporter": "python",
   "pygments_lexer": "ipython3",
   "version": "3.8.20"
  }
 },
 "nbformat": 4,
 "nbformat_minor": 2
}
