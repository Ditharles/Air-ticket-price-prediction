{
 "cells": [
  {
   "cell_type": "markdown",
   "metadata": {},
   "source": [
    "## Start "
   ]
  },
  {
   "cell_type": "code",
   "execution_count": 1,
   "metadata": {},
   "outputs": [
    {
     "name": "stdout",
     "output_type": "stream",
     "text": [
      "/app/projects\n"
     ]
    }
   ],
   "source": [
    "import os\n",
    "print(os.getcwd())\n"
   ]
  },
  {
   "cell_type": "code",
   "execution_count": 2,
   "metadata": {},
   "outputs": [
    {
     "name": "stderr",
     "output_type": "stream",
     "text": [
      "Setting default log level to \"WARN\".\n",
      "To adjust logging level use sc.setLogLevel(newLevel). For SparkR, use setLogLevel(newLevel).\n",
      "24/12/01 15:00:10 WARN NativeCodeLoader: Unable to load native-hadoop library for your platform... using builtin-java classes where applicable\n"
     ]
    }
   ],
   "source": [
    "from pyspark.sql import SparkSession\n",
    "\n",
    "#Initialize the session \n",
    "spark=SparkSession.builder.appName(\"Flight Price Prediction\").getOrCreate()\n",
    "\n",
    "#Read the data\n",
    "data=\"./data/flights_data_.csv\" #Chemin vers le fichier\n",
    "df=spark.read.csv(data,header=True,inferSchema=True)\n"
   ]
  },
  {
   "cell_type": "code",
   "execution_count": 3,
   "metadata": {},
   "outputs": [
    {
     "name": "stdout",
     "output_type": "stream",
     "text": [
      "+--------------------+-----------+-----+--------+-----------+----------+\n",
      "|            Airlines|Total_Stops|Price|Duration|Destination|      Date|\n",
      "+--------------------+-----------+-----+--------+-----------+----------+\n",
      "|            Tunisair|          0| 81 €|2h 15min|        MAD|2025-06-29|\n",
      "|            Tunisair|          0| 81 €|2h 15min|        MAD|2025-06-29|\n",
      "|          Air Europa|          0| 83 €|2h 15min|        MAD|2025-06-29|\n",
      "|     Vueling, Iberia|          1|102 €|5h 20min|        MAD|2025-06-29|\n",
      "|    Tunisair, Iberia|          1|105 €|5h 55min|        MAD|2025-06-29|\n",
      "|     Aegean Airlines|          1|117 €|9h 35min|        MAD|2025-06-29|\n",
      "|    Tunisair, Iberia|          1|137 €|4h 45min|        MAD|2025-06-29|\n",
      "|         ITA Airways|          1|177 €|4h 49min|        MAD|2025-06-29|\n",
      "|   Tunisair, Ryanair|          1|110 €|6h 30min|        MAD|2025-06-29|\n",
      "|    Transavia France|          1|137 €|7h 05min|        MAD|2025-06-29|\n",
      "|   Nouvelair, Iberia|          1|119 €|6h 15min|        MAD|2025-06-29|\n",
      "|    Tunisair, Iberia|          1|128 €|5h 40min|        MAD|2025-06-29|\n",
      "|    Transavia France|          1|174 €|6h 45min|        MAD|2025-06-29|\n",
      "|Tunisair, Transav...|          1|147 €|5h 45min|        MAD|2025-06-29|\n",
      "|     Vueling, Iberia|          1|114 €|7h 15min|        MAD|2025-06-29|\n",
      "|  Nouvelair, easyJet|          1|132 €|7h 10min|        MAD|2025-06-29|\n",
      "|   Nouvelair, Iberia|          1|128 €|6h 55min|        MAD|2025-06-29|\n",
      "|    Tunisair, Iberia|          1|128 €|6h 40min|        MAD|2025-06-29|\n",
      "|Transavia France,...|          1|151 €|6h 15min|        MAD|2025-06-29|\n",
      "|    Tunisair, Iberia|          1|128 €|6h 35min|        MAD|2025-06-29|\n",
      "+--------------------+-----------+-----+--------+-----------+----------+\n",
      "only showing top 20 rows\n",
      "\n"
     ]
    },
    {
     "data": {
      "text/plain": [
       "7394"
      ]
     },
     "execution_count": 3,
     "metadata": {},
     "output_type": "execute_result"
    }
   ],
   "source": [
    "#Show the data\n",
    "df.show()\n",
    "#Number of rows\n",
    "df.count()"
   ]
  },
  {
   "cell_type": "markdown",
   "metadata": {},
   "source": [
    "## Clean the data "
   ]
  },
  {
   "cell_type": "code",
   "execution_count": 4,
   "metadata": {},
   "outputs": [
    {
     "name": "stdout",
     "output_type": "stream",
     "text": [
      "root\n",
      " |-- Airlines: string (nullable = true)\n",
      " |-- Total_Stops: integer (nullable = true)\n",
      " |-- Price: string (nullable = true)\n",
      " |-- Duration: string (nullable = true)\n",
      " |-- Destination: string (nullable = true)\n",
      " |-- Date: date (nullable = true)\n",
      "\n"
     ]
    }
   ],
   "source": [
    "df.printSchema()\n",
    "# #Data format \n",
    "#  |-- Airlines: string (nullable = true)\n",
    "#  |-- Total_Stops: integer (nullable = true)\n",
    "#  |-- Price: string (nullable = true)\n",
    "#  |-- Duration: string (nullable = true)\n",
    "#  |-- Destination: string (nullable = true)\n",
    "#  |-- Date: date (nullable = true)\n",
    "#It is neccesary to change few format"
   ]
  },
  {
   "cell_type": "code",
   "execution_count": 5,
   "metadata": {},
   "outputs": [
    {
     "name": "stdout",
     "output_type": "stream",
     "text": [
      "root\n",
      " |-- Airlines: string (nullable = true)\n",
      " |-- Total_Stops: integer (nullable = true)\n",
      " |-- Price: integer (nullable = true)\n",
      " |-- Duration: string (nullable = true)\n",
      " |-- Destination: string (nullable = true)\n",
      " |-- Date: string (nullable = true)\n",
      "\n",
      "+--------------------+-----------+-----+--------+-----------+----------+\n",
      "|            Airlines|Total_Stops|Price|Duration|Destination|      Date|\n",
      "+--------------------+-----------+-----+--------+-----------+----------+\n",
      "|            Tunisair|          0|   81|2h 15min|        MAD|2025-06-29|\n",
      "|            Tunisair|          0|   81|2h 15min|        MAD|2025-06-29|\n",
      "|          Air Europa|          0|   83|2h 15min|        MAD|2025-06-29|\n",
      "|     Vueling, Iberia|          1|  102|5h 20min|        MAD|2025-06-29|\n",
      "|    Tunisair, Iberia|          1|  105|5h 55min|        MAD|2025-06-29|\n",
      "|     Aegean Airlines|          1|  117|9h 35min|        MAD|2025-06-29|\n",
      "|    Tunisair, Iberia|          1|  137|4h 45min|        MAD|2025-06-29|\n",
      "|         ITA Airways|          1|  177|4h 49min|        MAD|2025-06-29|\n",
      "|   Tunisair, Ryanair|          1|  110|6h 30min|        MAD|2025-06-29|\n",
      "|    Transavia France|          1|  137|7h 05min|        MAD|2025-06-29|\n",
      "|   Nouvelair, Iberia|          1|  119|6h 15min|        MAD|2025-06-29|\n",
      "|    Tunisair, Iberia|          1|  128|5h 40min|        MAD|2025-06-29|\n",
      "|    Transavia France|          1|  174|6h 45min|        MAD|2025-06-29|\n",
      "|Tunisair, Transav...|          1|  147|5h 45min|        MAD|2025-06-29|\n",
      "|     Vueling, Iberia|          1|  114|7h 15min|        MAD|2025-06-29|\n",
      "|  Nouvelair, easyJet|          1|  132|7h 10min|        MAD|2025-06-29|\n",
      "|   Nouvelair, Iberia|          1|  128|6h 55min|        MAD|2025-06-29|\n",
      "|    Tunisair, Iberia|          1|  128|6h 40min|        MAD|2025-06-29|\n",
      "|Transavia France,...|          1|  151|6h 15min|        MAD|2025-06-29|\n",
      "|    Tunisair, Iberia|          1|  128|6h 35min|        MAD|2025-06-29|\n",
      "+--------------------+-----------+-----+--------+-----------+----------+\n",
      "only showing top 20 rows\n",
      "\n"
     ]
    }
   ],
   "source": [
    "from pyspark.sql.functions import (\n",
    "    col,  \n",
    "    to_timestamp, \n",
    "    when, \n",
    "    split,\n",
    "   regexp_replace,lit,\n",
    "date_format\n",
    ")\n",
    "\n",
    "\n",
    "# 1. Convert Date to timestamp\n",
    "df = df.withColumn(\"Date\",date_format( to_timestamp(col(\"Date\"), \"yyyy-MM-dd\"),\"yyyy-MM-dd\"))\n",
    "\n",
    "# 2.Convert price to integer\n",
    "df = df.withColumn(\"Price\", regexp_replace(col(\"Price\"), \"\\xa0\", \" \"))\n",
    "\n",
    "df = df.withColumn(\"Price\", split(col(\"Price\"), \" \")[0].cast(\"integer\"))\n",
    "\n",
    "# Afficher les résultats\n",
    "\n",
    "\n",
    "\n",
    "df.printSchema()\n",
    "df.show()"
   ]
  },
  {
   "cell_type": "code",
   "execution_count": 6,
   "metadata": {},
   "outputs": [
    {
     "name": "stdout",
     "output_type": "stream",
     "text": [
      "root\n",
      " |-- Airlines: string (nullable = true)\n",
      " |-- Total_Stops: integer (nullable = true)\n",
      " |-- Price: integer (nullable = true)\n",
      " |-- Duration: string (nullable = true)\n",
      " |-- Destination: string (nullable = true)\n",
      " |-- Date: string (nullable = true)\n",
      " |-- Airlines_list: array (nullable = true)\n",
      " |    |-- element: string (containsNull = false)\n",
      "\n",
      "+--------------------+-----------+-----+--------+-----------+----------+--------------------+\n",
      "|            Airlines|Total_Stops|Price|Duration|Destination|      Date|       Airlines_list|\n",
      "+--------------------+-----------+-----+--------+-----------+----------+--------------------+\n",
      "|            Tunisair|          0|   81|2h 15min|        MAD|2025-06-29|          [Tunisair]|\n",
      "|            Tunisair|          0|   81|2h 15min|        MAD|2025-06-29|          [Tunisair]|\n",
      "|          Air Europa|          0|   83|2h 15min|        MAD|2025-06-29|        [Air Europa]|\n",
      "|     Vueling, Iberia|          1|  102|5h 20min|        MAD|2025-06-29|   [Vueling, Iberia]|\n",
      "|    Tunisair, Iberia|          1|  105|5h 55min|        MAD|2025-06-29|  [Tunisair, Iberia]|\n",
      "|     Aegean Airlines|          1|  117|9h 35min|        MAD|2025-06-29|   [Aegean Airlines]|\n",
      "|    Tunisair, Iberia|          1|  137|4h 45min|        MAD|2025-06-29|  [Tunisair, Iberia]|\n",
      "|         ITA Airways|          1|  177|4h 49min|        MAD|2025-06-29|       [ITA Airways]|\n",
      "|   Tunisair, Ryanair|          1|  110|6h 30min|        MAD|2025-06-29| [Tunisair, Ryanair]|\n",
      "|    Transavia France|          1|  137|7h 05min|        MAD|2025-06-29|  [Transavia France]|\n",
      "|   Nouvelair, Iberia|          1|  119|6h 15min|        MAD|2025-06-29| [Nouvelair, Iberia]|\n",
      "|    Tunisair, Iberia|          1|  128|5h 40min|        MAD|2025-06-29|  [Tunisair, Iberia]|\n",
      "|    Transavia France|          1|  174|6h 45min|        MAD|2025-06-29|  [Transavia France]|\n",
      "|Tunisair, Transav...|          1|  147|5h 45min|        MAD|2025-06-29|[Tunisair, Transa...|\n",
      "|     Vueling, Iberia|          1|  114|7h 15min|        MAD|2025-06-29|   [Vueling, Iberia]|\n",
      "|  Nouvelair, easyJet|          1|  132|7h 10min|        MAD|2025-06-29|[Nouvelair, easyJet]|\n",
      "|   Nouvelair, Iberia|          1|  128|6h 55min|        MAD|2025-06-29| [Nouvelair, Iberia]|\n",
      "|    Tunisair, Iberia|          1|  128|6h 40min|        MAD|2025-06-29|  [Tunisair, Iberia]|\n",
      "|Transavia France,...|          1|  151|6h 15min|        MAD|2025-06-29|[Transavia France...|\n",
      "|    Tunisair, Iberia|          1|  128|6h 35min|        MAD|2025-06-29|  [Tunisair, Iberia]|\n",
      "+--------------------+-----------+-----+--------+-----------+----------+--------------------+\n",
      "only showing top 20 rows\n",
      "\n"
     ]
    }
   ],
   "source": [
    "df = df.withColumn(\"Airlines\", regexp_replace(col(\"Airlines\"), \"\\xa0\", \" \"))\n",
    "df=df.withColumn(\"Airlines_list\",split(col(\"Airlines\"), \", \"))\n",
    "df.printSchema()\n",
    "df.show()"
   ]
  },
  {
   "cell_type": "code",
   "execution_count": 7,
   "metadata": {},
   "outputs": [
    {
     "name": "stdout",
     "output_type": "stream",
     "text": [
      "root\n",
      " |-- Airlines: string (nullable = true)\n",
      " |-- Total_Stops: integer (nullable = true)\n",
      " |-- Price: integer (nullable = true)\n",
      " |-- Duration: float (nullable = true)\n",
      " |-- Destination: string (nullable = true)\n",
      " |-- Date: string (nullable = true)\n",
      " |-- Airlines_list: array (nullable = true)\n",
      " |    |-- element: string (containsNull = false)\n",
      "\n"
     ]
    },
    {
     "name": "stderr",
     "output_type": "stream",
     "text": [
      "[Stage 8:>                                                          (0 + 1) / 1]\r"
     ]
    },
    {
     "name": "stdout",
     "output_type": "stream",
     "text": [
      "+--------------------------+-----------+-----+---------+-----------+----------+----------------------------+\n",
      "|Airlines                  |Total_Stops|Price|Duration |Destination|Date      |Airlines_list               |\n",
      "+--------------------------+-----------+-----+---------+-----------+----------+----------------------------+\n",
      "|Tunisair                  |0          |81   |2.25     |MAD        |2025-06-29|[Tunisair]                  |\n",
      "|Tunisair                  |0          |81   |2.25     |MAD        |2025-06-29|[Tunisair]                  |\n",
      "|Air Europa                |0          |83   |2.25     |MAD        |2025-06-29|[Air Europa]                |\n",
      "|Vueling, Iberia           |1          |102  |5.3333335|MAD        |2025-06-29|[Vueling, Iberia]           |\n",
      "|Tunisair, Iberia          |1          |105  |5.9166665|MAD        |2025-06-29|[Tunisair, Iberia]          |\n",
      "|Aegean Airlines           |1          |117  |9.583333 |MAD        |2025-06-29|[Aegean Airlines]           |\n",
      "|Tunisair, Iberia          |1          |137  |4.75     |MAD        |2025-06-29|[Tunisair, Iberia]          |\n",
      "|ITA Airways               |1          |177  |4.8166666|MAD        |2025-06-29|[ITA Airways]               |\n",
      "|Tunisair, Ryanair         |1          |110  |6.5      |MAD        |2025-06-29|[Tunisair, Ryanair]         |\n",
      "|Transavia France          |1          |137  |7.0833335|MAD        |2025-06-29|[Transavia France]          |\n",
      "|Nouvelair, Iberia         |1          |119  |6.25     |MAD        |2025-06-29|[Nouvelair, Iberia]         |\n",
      "|Tunisair, Iberia          |1          |128  |5.6666665|MAD        |2025-06-29|[Tunisair, Iberia]          |\n",
      "|Transavia France          |1          |174  |6.75     |MAD        |2025-06-29|[Transavia France]          |\n",
      "|Tunisair, Transavia France|1          |147  |5.75     |MAD        |2025-06-29|[Tunisair, Transavia France]|\n",
      "|Vueling, Iberia           |1          |114  |7.25     |MAD        |2025-06-29|[Vueling, Iberia]           |\n",
      "|Nouvelair, easyJet        |1          |132  |7.1666665|MAD        |2025-06-29|[Nouvelair, easyJet]        |\n",
      "|Nouvelair, Iberia         |1          |128  |6.9166665|MAD        |2025-06-29|[Nouvelair, Iberia]         |\n",
      "|Tunisair, Iberia          |1          |128  |6.6666665|MAD        |2025-06-29|[Tunisair, Iberia]          |\n",
      "|Transavia France, Iberia  |1          |151  |6.25     |MAD        |2025-06-29|[Transavia France, Iberia]  |\n",
      "|Tunisair, Iberia          |1          |128  |6.5833335|MAD        |2025-06-29|[Tunisair, Iberia]          |\n",
      "+--------------------------+-----------+-----+---------+-----------+----------+----------------------------+\n",
      "only showing top 20 rows\n",
      "\n"
     ]
    },
    {
     "name": "stderr",
     "output_type": "stream",
     "text": [
      "                                                                                \r"
     ]
    }
   ],
   "source": [
    "from pyspark.sql.functions import udf, col\n",
    "from pyspark.sql.types import FloatType\n",
    "\n",
    "# Convert duration from 'Xh Ym' format to hours\n",
    "def duration_to_hours(duration):\n",
    "    \"\"\"\n",
    "    Convert flight duration to hours.\n",
    "    Args:\n",
    "        duration (str): Duration in format 'Xh Ym' or 'Xh' or 'Ym'.\n",
    "    Returns:\n",
    "        float: Total duration in hours.\n",
    "    \"\"\"\n",
    "    if not duration:\n",
    "        return None\n",
    "    \n",
    "    total_hours = 0.0\n",
    "    \n",
    "    # Process hours and minutes\n",
    "    if \"h\" in duration:\n",
    "        hours = float(duration.split(\"h\")[0].strip())\n",
    "        total_hours += hours  # Add hours directly\n",
    "        if \"m\" in duration:\n",
    "            minutes = int(duration.split(\"h\")[1].split(\"m\")[0].strip())\n",
    "            total_hours += minutes / 60.0  # Convert minutes to hours and add\n",
    "    elif \"m\" in duration:\n",
    "        minutes = int(duration.replace(\"m\", \"\").strip())\n",
    "        total_hours += minutes / 60.0  # Convert minutes to hours\n",
    "    \n",
    "    return total_hours\n",
    "\n",
    "# Create a UDF to apply the function\n",
    "duration_to_hours_udf = udf(duration_to_hours, FloatType())\n",
    "\n",
    "# Apply the transformation on the DataFrame to convert duration to hours\n",
    "df = df.withColumn(\"Duration\", duration_to_hours_udf(col(\"Duration\")))\n",
    "\n",
    "# Show the schema and the DataFrame data\n",
    "df.printSchema()\n",
    "df.show(truncate=False)\n"
   ]
  },
  {
   "cell_type": "code",
   "execution_count": 8,
   "metadata": {},
   "outputs": [
    {
     "name": "stdout",
     "output_type": "stream",
     "text": [
      "root\n",
      " |-- Airlines: string (nullable = true)\n",
      " |-- Total_Stops: integer (nullable = true)\n",
      " |-- Price: integer (nullable = true)\n",
      " |-- Duration: float (nullable = true)\n",
      " |-- Destination: string (nullable = true)\n",
      " |-- Date: string (nullable = true)\n",
      " |-- Airlines_list: array (nullable = true)\n",
      " |    |-- element: string (containsNull = false)\n",
      " |-- Pays_Destination: string (nullable = true)\n",
      " |-- Depart: string (nullable = false)\n",
      "\n",
      "+--------------------------+-----------+-----+---------+-----------+----------+----------------------------+----------------+------+\n",
      "|Airlines                  |Total_Stops|Price|Duration |Destination|Date      |Airlines_list               |Pays_Destination|Depart|\n",
      "+--------------------------+-----------+-----+---------+-----------+----------+----------------------------+----------------+------+\n",
      "|Tunisair                  |0          |81   |2.25     |Madrid     |2025-06-29|[Tunisair]                  |Espagne         |Tunis |\n",
      "|Tunisair                  |0          |81   |2.25     |Madrid     |2025-06-29|[Tunisair]                  |Espagne         |Tunis |\n",
      "|Air Europa                |0          |83   |2.25     |Madrid     |2025-06-29|[Air Europa]                |Espagne         |Tunis |\n",
      "|Vueling, Iberia           |1          |102  |5.3333335|Madrid     |2025-06-29|[Vueling, Iberia]           |Espagne         |Tunis |\n",
      "|Tunisair, Iberia          |1          |105  |5.9166665|Madrid     |2025-06-29|[Tunisair, Iberia]          |Espagne         |Tunis |\n",
      "|Aegean Airlines           |1          |117  |9.583333 |Madrid     |2025-06-29|[Aegean Airlines]           |Espagne         |Tunis |\n",
      "|Tunisair, Iberia          |1          |137  |4.75     |Madrid     |2025-06-29|[Tunisair, Iberia]          |Espagne         |Tunis |\n",
      "|ITA Airways               |1          |177  |4.8166666|Madrid     |2025-06-29|[ITA Airways]               |Espagne         |Tunis |\n",
      "|Tunisair, Ryanair         |1          |110  |6.5      |Madrid     |2025-06-29|[Tunisair, Ryanair]         |Espagne         |Tunis |\n",
      "|Transavia France          |1          |137  |7.0833335|Madrid     |2025-06-29|[Transavia France]          |Espagne         |Tunis |\n",
      "|Nouvelair, Iberia         |1          |119  |6.25     |Madrid     |2025-06-29|[Nouvelair, Iberia]         |Espagne         |Tunis |\n",
      "|Tunisair, Iberia          |1          |128  |5.6666665|Madrid     |2025-06-29|[Tunisair, Iberia]          |Espagne         |Tunis |\n",
      "|Transavia France          |1          |174  |6.75     |Madrid     |2025-06-29|[Transavia France]          |Espagne         |Tunis |\n",
      "|Tunisair, Transavia France|1          |147  |5.75     |Madrid     |2025-06-29|[Tunisair, Transavia France]|Espagne         |Tunis |\n",
      "|Vueling, Iberia           |1          |114  |7.25     |Madrid     |2025-06-29|[Vueling, Iberia]           |Espagne         |Tunis |\n",
      "|Nouvelair, easyJet        |1          |132  |7.1666665|Madrid     |2025-06-29|[Nouvelair, easyJet]        |Espagne         |Tunis |\n",
      "|Nouvelair, Iberia         |1          |128  |6.9166665|Madrid     |2025-06-29|[Nouvelair, Iberia]         |Espagne         |Tunis |\n",
      "|Tunisair, Iberia          |1          |128  |6.6666665|Madrid     |2025-06-29|[Tunisair, Iberia]          |Espagne         |Tunis |\n",
      "|Transavia France, Iberia  |1          |151  |6.25     |Madrid     |2025-06-29|[Transavia France, Iberia]  |Espagne         |Tunis |\n",
      "|Tunisair, Iberia          |1          |128  |6.5833335|Madrid     |2025-06-29|[Tunisair, Iberia]          |Espagne         |Tunis |\n",
      "+--------------------------+-----------+-----+---------+-----------+----------+----------------------------+----------------+------+\n",
      "only showing top 20 rows\n",
      "\n"
     ]
    }
   ],
   "source": [
    "from pyspark.sql.types import StringType\n",
    "\n",
    "def pays_converter(destination):\n",
    "    destinations={\"TUN\":\"Tunisie\",\"CRL\":\"Belgique\",\"ANR\":\"Belgique\",\"OST\":\"Tchèque\",\"LUX\":\"Luxembourg\",\"NDJ\":\"Tchad\",\"ABJ\":\"Cote d'Ivoire\",\"PAR\":\"France\",\"ALG\":\"Algerie\",\"COO\":\"Benin\",\"MAD\":\"Espagne\"}\n",
    "    return destinations.get(destination)\n",
    "def destination_converter(destination):\n",
    "    destinations={\"TUN\":\"Tunis\",\"CRL\":\"Brussels\",\"ANR\":\"Antwerp\",\"OST\":\"Ostrava\",\"LUX\":\"Luxembourg\",\"NDJ\":\"N'Djamena\",\"ABJ\":\"Abidjan\",\"PAR\":\"Paris\",\"ALG\":\"Alger\",\"COO\":\"Cotonou\",\"MAD\":\"Madrid\"}\n",
    "    return destinations.get(destination)\n",
    "\n",
    "pays_converter_udf = udf(pays_converter, StringType())\n",
    "destination_converter_udf = udf(destination_converter, StringType())\n",
    "\n",
    "\n",
    "df = df.withColumn(\"Pays_Destination\", pays_converter_udf(col(\"Destination\")))\n",
    "df = df.withColumn(\"Destination\", destination_converter_udf(col(\"Destination\")))\n",
    "df = df.withColumn(\"Depart\",lit(\"Tunis\"))\n",
    "df.printSchema()\n",
    "df.show(truncate=False)\n",
    "    "
   ]
  },
  {
   "cell_type": "code",
   "execution_count": 9,
   "metadata": {},
   "outputs": [
    {
     "name": "stdout",
     "output_type": "stream",
     "text": [
      "root\n",
      " |-- Airlines: string (nullable = true)\n",
      " |-- Total_Stops: integer (nullable = true)\n",
      " |-- Price: integer (nullable = true)\n",
      " |-- Duration: float (nullable = true)\n",
      " |-- Destination: string (nullable = true)\n",
      " |-- Date: string (nullable = true)\n",
      " |-- Airlines_list: array (nullable = true)\n",
      " |    |-- element: string (containsNull = false)\n",
      " |-- Pays_Destination: string (nullable = true)\n",
      " |-- Depart: string (nullable = false)\n",
      "\n"
     ]
    }
   ],
   "source": [
    "\n",
    "# Remove rows with null values in critical columns\n",
    "df = df.filter(\n",
    "    (col(\"Duration\").isNotNull()) &\n",
    "    (col(\"Price\").isNotNull()) &\n",
    "    (col(\"Airlines\").isNotNull()) &\n",
    "    (col(\"Date\").isNotNull())\n",
    ")\n",
    "\n",
    "\n",
    "df.printSchema()\n"
   ]
  },
  {
   "cell_type": "code",
   "execution_count": 10,
   "metadata": {},
   "outputs": [
    {
     "name": "stdout",
     "output_type": "stream",
     "text": [
      "+--------------------+-----------+-----+---------+-----------+----------+--------------------+----------------+------+\n",
      "|            Airlines|Total_Stops|Price| Duration|Destination|      Date|       Airlines_list|Pays_Destination|Depart|\n",
      "+--------------------+-----------+-----+---------+-----------+----------+--------------------+----------------+------+\n",
      "|            Tunisair|          0|   81|     2.25|     Madrid|2025-06-29|          [Tunisair]|         Espagne| Tunis|\n",
      "|            Tunisair|          0|   81|     2.25|     Madrid|2025-06-29|          [Tunisair]|         Espagne| Tunis|\n",
      "|          Air Europa|          0|   83|     2.25|     Madrid|2025-06-29|        [Air Europa]|         Espagne| Tunis|\n",
      "|     Vueling, Iberia|          1|  102|5.3333335|     Madrid|2025-06-29|   [Vueling, Iberia]|         Espagne| Tunis|\n",
      "|    Tunisair, Iberia|          1|  105|5.9166665|     Madrid|2025-06-29|  [Tunisair, Iberia]|         Espagne| Tunis|\n",
      "|     Aegean Airlines|          1|  117| 9.583333|     Madrid|2025-06-29|   [Aegean Airlines]|         Espagne| Tunis|\n",
      "|    Tunisair, Iberia|          1|  137|     4.75|     Madrid|2025-06-29|  [Tunisair, Iberia]|         Espagne| Tunis|\n",
      "|         ITA Airways|          1|  177|4.8166666|     Madrid|2025-06-29|       [ITA Airways]|         Espagne| Tunis|\n",
      "|   Tunisair, Ryanair|          1|  110|      6.5|     Madrid|2025-06-29| [Tunisair, Ryanair]|         Espagne| Tunis|\n",
      "|    Transavia France|          1|  137|7.0833335|     Madrid|2025-06-29|  [Transavia France]|         Espagne| Tunis|\n",
      "|   Nouvelair, Iberia|          1|  119|     6.25|     Madrid|2025-06-29| [Nouvelair, Iberia]|         Espagne| Tunis|\n",
      "|    Tunisair, Iberia|          1|  128|5.6666665|     Madrid|2025-06-29|  [Tunisair, Iberia]|         Espagne| Tunis|\n",
      "|    Transavia France|          1|  174|     6.75|     Madrid|2025-06-29|  [Transavia France]|         Espagne| Tunis|\n",
      "|Tunisair, Transav...|          1|  147|     5.75|     Madrid|2025-06-29|[Tunisair, Transa...|         Espagne| Tunis|\n",
      "|     Vueling, Iberia|          1|  114|     7.25|     Madrid|2025-06-29|   [Vueling, Iberia]|         Espagne| Tunis|\n",
      "|  Nouvelair, easyJet|          1|  132|7.1666665|     Madrid|2025-06-29|[Nouvelair, easyJet]|         Espagne| Tunis|\n",
      "|   Nouvelair, Iberia|          1|  128|6.9166665|     Madrid|2025-06-29| [Nouvelair, Iberia]|         Espagne| Tunis|\n",
      "|    Tunisair, Iberia|          1|  128|6.6666665|     Madrid|2025-06-29|  [Tunisair, Iberia]|         Espagne| Tunis|\n",
      "|Transavia France,...|          1|  151|     6.25|     Madrid|2025-06-29|[Transavia France...|         Espagne| Tunis|\n",
      "|    Tunisair, Iberia|          1|  128|6.5833335|     Madrid|2025-06-29|  [Tunisair, Iberia]|         Espagne| Tunis|\n",
      "+--------------------+-----------+-----+---------+-----------+----------+--------------------+----------------+------+\n",
      "only showing top 20 rows\n",
      "\n"
     ]
    }
   ],
   "source": [
    "df.show()"
   ]
  },
  {
   "cell_type": "code",
   "execution_count": 11,
   "metadata": {},
   "outputs": [
    {
     "name": "stderr",
     "output_type": "stream",
     "text": [
      "                                                                                \r"
     ]
    },
    {
     "data": {
      "text/plain": [
       "5707"
      ]
     },
     "execution_count": 11,
     "metadata": {},
     "output_type": "execute_result"
    }
   ],
   "source": [
    "#Delete duplicates\n",
    "df = df.distinct()\n",
    "df.count()"
   ]
  }
 ],
 "metadata": {
  "kernelspec": {
   "display_name": "Python 3 (ipykernel)",
   "language": "python",
   "name": "python3"
  },
  "language_info": {
   "codemirror_mode": {
    "name": "ipython",
    "version": 3
   },
   "file_extension": ".py",
   "mimetype": "text/x-python",
   "name": "python",
   "nbconvert_exporter": "python",
   "pygments_lexer": "ipython3",
   "version": "3.11.10"
  }
 },
 "nbformat": 4,
 "nbformat_minor": 4
}
